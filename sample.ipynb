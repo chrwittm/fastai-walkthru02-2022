{
 "cells": [
  {
   "cell_type": "markdown",
   "id": "721f6445-f480-4c3c-ac41-9659abee1878",
   "metadata": {},
   "source": [
    "# Walkthrough Sample Notebook\n",
    "\n",
    "Here is how I calculate `1+1`"
   ]
  },
  {
   "cell_type": "code",
   "execution_count": 1,
   "id": "c5b1ebbb-5638-4236-96d6-2c00f7bc64d1",
   "metadata": {},
   "outputs": [
    {
     "data": {
      "text/plain": [
       "2"
      ]
     },
     "execution_count": 1,
     "metadata": {},
     "output_type": "execute_result"
    }
   ],
   "source": [
    "1+1"
   ]
  },
  {
   "cell_type": "code",
   "execution_count": 2,
   "id": "6478dd86-5c12-4b4b-b0f9-c17be37d8751",
   "metadata": {},
   "outputs": [],
   "source": [
    "from numpy import *"
   ]
  },
  {
   "cell_type": "markdown",
   "id": "864f43d6-8b5b-4b6c-9e78-8d091e6e81ee",
   "metadata": {},
   "source": [
    "Here is how I calculate a `sin`:"
   ]
  },
  {
   "cell_type": "code",
   "execution_count": 3,
   "id": "71d229fb-3faa-4491-9b63-f964bebf5951",
   "metadata": {},
   "outputs": [
    {
     "data": {
      "text/plain": [
       "array([0.84147098])"
      ]
     },
     "execution_count": 3,
     "metadata": {},
     "output_type": "execute_result"
    }
   ],
   "source": [
    "a = array([1])\n",
    "sin(a)"
   ]
  },
  {
   "cell_type": "code",
   "execution_count": null,
   "id": "68b36b31-0210-4904-84ec-79800c7ebd1f",
   "metadata": {},
   "outputs": [],
   "source": []
  }
 ],
 "metadata": {
  "kernelspec": {
   "display_name": "Python 3 (ipykernel)",
   "language": "python",
   "name": "python3"
  },
  "language_info": {
   "codemirror_mode": {
    "name": "ipython",
    "version": 3
   },
   "file_extension": ".py",
   "mimetype": "text/x-python",
   "name": "python",
   "nbconvert_exporter": "python",
   "pygments_lexer": "ipython3",
   "version": "3.10.6"
  }
 },
 "nbformat": 4,
 "nbformat_minor": 5
}
